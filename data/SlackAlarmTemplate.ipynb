{
 "cells": [
  {
   "cell_type": "code",
   "execution_count": 5,
   "metadata": {},
   "outputs": [
    {
     "name": "stdout",
     "output_type": "stream",
     "text": [
      "no_service\n"
     ]
    }
   ],
   "source": [
    "# encoding: utf-8\n",
    "import json\n",
    "import requests\n",
    "\n",
    "# with open('config') as json_file: \n",
    "#     data = json.load(json_file)\n",
    "\n",
    "def main():\n",
    "    '''\n",
    "    main\n",
    "    '''\n",
    "    # HTTP POST Request\n",
    "    webhook_url = \"https://hooks.slack.com/services/xxxxxxxx/XXXXXXXX/RPrBA7999uo96inX3rOcmGbf\" # setting config file before running\n",
    "\n",
    "    payload_header = {'Content-type': 'application/json'}\n",
    "\n",
    "    dict_payload = {\n",
    "        \"text\": \"Hello 記憶體使用量已達 80% \",\n",
    "        \"channel\":\"#random\" # setting send to which channel\n",
    "    }\n",
    "    json_payload = json.dumps(dict_payload)\n",
    "\n",
    "    return_msg = requests.post(webhook_url, data=json_payload, headers=payload_header)\n",
    "    print(return_msg.text)\n",
    "\n",
    "    return None\n",
    "\n",
    "if __name__ == '__main__':\n",
    "    main()"
   ]
  },
  {
   "cell_type": "code",
   "execution_count": null,
   "metadata": {},
   "outputs": [],
   "source": []
  }
 ],
 "metadata": {
  "kernelspec": {
   "display_name": "Python 3",
   "language": "python",
   "name": "python3"
  },
  "language_info": {
   "codemirror_mode": {
    "name": "ipython",
    "version": 3
   },
   "file_extension": ".py",
   "mimetype": "text/x-python",
   "name": "python",
   "nbconvert_exporter": "python",
   "pygments_lexer": "ipython3",
   "version": "3.7.3"
  }
 },
 "nbformat": 4,
 "nbformat_minor": 2
}
